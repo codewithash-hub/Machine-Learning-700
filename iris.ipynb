{
 "cells": [
  {
   "cell_type": "code",
   "execution_count": 1,
   "id": "ead487c1",
   "metadata": {},
   "outputs": [],
   "source": [
    "from sklearn.datasets import load_iris"
   ]
  },
  {
   "cell_type": "markdown",
   "id": "b4ebde73",
   "metadata": {},
   "source": [
    "The iris object that is returned by load_iris is a Bunch object, which is very similar\n",
    " to a dictionary. It contains keys and values:"
   ]
  },
  {
   "cell_type": "code",
   "execution_count": 3,
   "id": "5f249b0e",
   "metadata": {},
   "outputs": [
    {
     "name": "stdout",
     "output_type": "stream",
     "text": [
      "Keys of iris_dataset\n",
      "dict_keys(['data', 'target', 'frame', 'target_names', 'DESCR', 'feature_names', 'filename', 'data_module'])\n"
     ]
    }
   ],
   "source": [
    "iris_dataset = load_iris()\n",
    "print(f\"Keys of iris_dataset\\n{iris_dataset.keys()}\")"
   ]
  },
  {
   "cell_type": "markdown",
   "id": "3989b096",
   "metadata": {},
   "source": [
    "The value of the key DESCR is a short description of the dataset. We show the beginning of the description here (feel free to look up the rest yourself):"
   ]
  },
  {
   "cell_type": "code",
   "execution_count": 11,
   "id": "efc5d430",
   "metadata": {},
   "outputs": [
    {
     "name": "stdout",
     "output_type": "stream",
     "text": [
      ".. _iris_dataset:\n",
      "\n",
      "Iris plants dataset\n",
      "--------------------\n",
      "\n",
      "**Data Set Characteristics:**\n",
      "\n",
      ":Number of Instances: 150 (50 in each of three classes)\n",
      ":Number of Attributes: 4 numeric, predictive \n",
      "...\n"
     ]
    }
   ],
   "source": [
    "print(iris_dataset.DESCR[:193] + \"\\n...\")"
   ]
  },
  {
   "cell_type": "markdown",
   "id": "1948a3ec",
   "metadata": {},
   "source": [
    "The value of the key target_names is an array of strings, containing the species of flower that we want to predict:"
   ]
  },
  {
   "cell_type": "code",
   "execution_count": 9,
   "id": "f0a05bff",
   "metadata": {},
   "outputs": [
    {
     "name": "stdout",
     "output_type": "stream",
     "text": [
      "Target names: ['setosa' 'versicolor' 'virginica']\n"
     ]
    }
   ],
   "source": [
    "print(f\"Target names: {iris_dataset.target_names}\")"
   ]
  },
  {
   "cell_type": "markdown",
   "id": "013dc295",
   "metadata": {},
   "source": [
    " The value of feature_names is a list of strings, giving the description of each feature:"
   ]
  },
  {
   "cell_type": "code",
   "execution_count": 13,
   "id": "f82d73d9",
   "metadata": {},
   "outputs": [
    {
     "name": "stdout",
     "output_type": "stream",
     "text": [
      "Feature name: ['sepal length (cm)', 'sepal width (cm)', 'petal length (cm)', 'petal width (cm)']\n"
     ]
    }
   ],
   "source": [
    "print(f\"Feature name: {iris_dataset.feature_names}\")"
   ]
  },
  {
   "cell_type": "markdown",
   "id": "2c91c7de",
   "metadata": {},
   "source": [
    "The data itself is contained in the target and data fields. data contains the numeric measurements of sepal length, sepal width, petal length, and petal width in a NumPy array:"
   ]
  },
  {
   "cell_type": "code",
   "execution_count": 15,
   "id": "8515ee3c",
   "metadata": {},
   "outputs": [
    {
     "name": "stdout",
     "output_type": "stream",
     "text": [
      "Type of data: <class 'numpy.ndarray'>\n"
     ]
    }
   ],
   "source": [
    "print(f\"Type of data: {type(iris_dataset.data)}\")"
   ]
  },
  {
   "cell_type": "markdown",
   "id": "57ee2ad2",
   "metadata": {},
   "source": [
    "The rows in the data array correspond to flowers, while the columns represent the four measurements that were taken for each flower:"
   ]
  },
  {
   "cell_type": "code",
   "execution_count": 16,
   "id": "79f03964",
   "metadata": {},
   "outputs": [
    {
     "name": "stdout",
     "output_type": "stream",
     "text": [
      "Shape of data: (150, 4)\n"
     ]
    }
   ],
   "source": [
    "print(f\"Shape of data: {iris_dataset.data.shape}\")"
   ]
  },
  {
   "cell_type": "markdown",
   "id": "6d047849",
   "metadata": {},
   "source": [
    " We see that the array contains measurements for 150 different flowers. Remember that the individual items are called samples in machine learning, and their properties\n",
    " are called features.<br> The shape of the data array is the number of samples multiplied by the number of features. This is a convention in scikit-learn, and your data will\n",
    " always be assumed to be in this shape.<br> Here are the feature values for the first five samples:"
   ]
  },
  {
   "cell_type": "code",
   "execution_count": 18,
   "id": "bbc87b43",
   "metadata": {},
   "outputs": [
    {
     "name": "stdout",
     "output_type": "stream",
     "text": [
      "First five columns:\n",
      "[[5.1 3.5 1.4 0.2]\n",
      " [4.9 3.  1.4 0.2]\n",
      " [4.7 3.2 1.3 0.2]\n",
      " [4.6 3.1 1.5 0.2]\n",
      " [5.  3.6 1.4 0.2]]\n"
     ]
    }
   ],
   "source": [
    "print(f\"First five columns:\\n{iris_dataset.data[:5]}\")"
   ]
  }
 ],
 "metadata": {
  "kernelspec": {
   "display_name": ".venv",
   "language": "python",
   "name": "python3"
  },
  "language_info": {
   "codemirror_mode": {
    "name": "ipython",
    "version": 3
   },
   "file_extension": ".py",
   "mimetype": "text/x-python",
   "name": "python",
   "nbconvert_exporter": "python",
   "pygments_lexer": "ipython3",
   "version": "3.13.3"
  }
 },
 "nbformat": 4,
 "nbformat_minor": 5
}
