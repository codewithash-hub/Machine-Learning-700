{
 "cells": [
  {
   "cell_type": "markdown",
   "id": "6e2bbca7",
   "metadata": {},
   "source": [
    "Min-Max Scaling and Standardization "
   ]
  },
  {
   "cell_type": "code",
   "execution_count": 2,
   "id": "26a41209",
   "metadata": {},
   "outputs": [],
   "source": [
    "from sklearn.preprocessing import MinMaxScaler, StandardScaler"
   ]
  },
  {
   "cell_type": "code",
   "execution_count": 3,
   "id": "9ec09dd4",
   "metadata": {},
   "outputs": [],
   "source": [
    "# Sample data\n",
    "data = [[100, 200], [300, 400], [500, 600]]"
   ]
  },
  {
   "cell_type": "code",
   "execution_count": 5,
   "id": "c032717f",
   "metadata": {},
   "outputs": [
    {
     "name": "stdout",
     "output_type": "stream",
     "text": [
      "Min-Max Scaled Data:\n",
      "[[0.  0. ]\n",
      " [0.5 0.5]\n",
      " [1.  1. ]]\n"
     ]
    }
   ],
   "source": [
    "# Apply MinMaxScaler to our data\n",
    "scaler = MinMaxScaler()\n",
    "scaled_data = scaler.fit_transform(data)\n",
    "print(f\"Min-Max Scaled Data:\\n{scaled_data}\")"
   ]
  },
  {
   "cell_type": "code",
   "execution_count": 6,
   "id": "32a29628",
   "metadata": {},
   "outputs": [
    {
     "name": "stdout",
     "output_type": "stream",
     "text": [
      "Standardized Data:\n",
      "[[-1.22474487 -1.22474487]\n",
      " [ 0.          0.        ]\n",
      " [ 1.22474487  1.22474487]]\n"
     ]
    }
   ],
   "source": [
    "# Standardize data\n",
    "standardizer = StandardScaler()\n",
    "standardized_data = standardizer.fit_transform(data)\n",
    "print(f\"Standardized Data:\\n{standardized_data}\")"
   ]
  }
 ],
 "metadata": {
  "kernelspec": {
   "display_name": "venv",
   "language": "python",
   "name": "python3"
  },
  "language_info": {
   "codemirror_mode": {
    "name": "ipython",
    "version": 3
   },
   "file_extension": ".py",
   "mimetype": "text/x-python",
   "name": "python",
   "nbconvert_exporter": "python",
   "pygments_lexer": "ipython3",
   "version": "3.13.3"
  }
 },
 "nbformat": 4,
 "nbformat_minor": 5
}
