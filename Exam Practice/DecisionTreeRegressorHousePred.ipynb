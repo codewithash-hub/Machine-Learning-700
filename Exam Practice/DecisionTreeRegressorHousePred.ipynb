{
 "cells": [
  {
   "cell_type": "code",
   "execution_count": 2,
   "id": "af5dfe2d",
   "metadata": {},
   "outputs": [],
   "source": [
    "import numpy as np\n",
    "import matplotlib.pyplot as plt\n",
    "from sklearn.tree import DecisionTreeRegressor\n",
    "from sklearn.linear_model import LinearRegression\n",
    "from sklearn.pipeline import make_pipeline\n",
    "from sklearn.metrics import mean_squared_error, mean_absolute_error, r2_score"
   ]
  },
  {
   "cell_type": "code",
   "execution_count": 3,
   "id": "dbffbb93",
   "metadata": {},
   "outputs": [
    {
     "name": "stdout",
     "output_type": "stream",
     "text": [
      "Predicted price (Decision Tree Regressor): $370.00K\n",
      "R2 Score: 1.0\n"
     ]
    }
   ],
   "source": [
    "X = np.array([1200, 1500, 1800, 2100, 2500]).reshape(-1, 1)\n",
    "y = np.array([220, 270, 320, 370, 420])\n",
    "\n",
    "# Train model\n",
    "tree_model = DecisionTreeRegressor()\n",
    "tree_model.fit(X, y)\n",
    "\n",
    "# Predict the price\n",
    "new_house = np.array([[2000]])\n",
    "predicted_price = tree_model.predict(new_house)\n",
    "print(f\"Predicted price (Decision Tree Regressor): ${predicted_price[0]:.2f}K\")\n",
    "\n",
    "y_pred = tree_model.predict(X)\n",
    "\n",
    "r2 = r2_score(y, y_pred)\n",
    "\n",
    "print(f\"R2 Score: {r2}\")"
   ]
  }
 ],
 "metadata": {
  "kernelspec": {
   "display_name": ".venv",
   "language": "python",
   "name": "python3"
  },
  "language_info": {
   "codemirror_mode": {
    "name": "ipython",
    "version": 3
   },
   "file_extension": ".py",
   "mimetype": "text/x-python",
   "name": "python",
   "nbconvert_exporter": "python",
   "pygments_lexer": "ipython3",
   "version": "3.13.3"
  }
 },
 "nbformat": 4,
 "nbformat_minor": 5
}
