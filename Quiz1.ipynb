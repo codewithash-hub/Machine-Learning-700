{
 "cells": [
  {
   "cell_type": "code",
   "execution_count": null,
   "id": "3a0bc7c3-19f8-4778-9109-3bacafcaabeb",
   "metadata": {},
   "outputs": [],
   "source": [
    "# import StandardScaler\n",
    "from sklearn.preprocessing import StandardScaler\n",
    "\n",
    "# assign standardScaler in a variable called scaler\n",
    "scaler = StandardScaler()\n",
    "\n",
    "# create a new cloumn to hold standardized value.\n",
    "# Use method called 'fit_tranform' to standardize column 'Age'\n",
    "df[\"standardized_Age\"] = scaler.fit_transform(df[['Age']])                                    "
   ]
  }
 ],
 "metadata": {
  "kernelspec": {
   "display_name": "venv",
   "language": "python",
   "name": "python3"
  },
  "language_info": {
   "codemirror_mode": {
    "name": "ipython",
    "version": 3
   },
   "file_extension": ".py",
   "mimetype": "text/x-python",
   "name": "python",
   "nbconvert_exporter": "python",
   "pygments_lexer": "ipython3",
   "version": "3.13.3"
  }
 },
 "nbformat": 4,
 "nbformat_minor": 5
}
