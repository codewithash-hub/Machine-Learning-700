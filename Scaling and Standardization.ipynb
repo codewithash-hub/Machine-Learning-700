{
 "cells": [
  {
   "cell_type": "markdown",
   "id": "ed119357",
   "metadata": {},
   "source": [
    "### Min-Max Scaling and Standardization"
   ]
  },
  {
   "cell_type": "code",
   "execution_count": 1,
   "id": "c6a0a1ba",
   "metadata": {},
   "outputs": [],
   "source": [
    "from sklearn.preprocessing import MinMaxScaler, StandardScaler"
   ]
  },
  {
   "cell_type": "code",
   "execution_count": 3,
   "id": "68d1268d",
   "metadata": {},
   "outputs": [
    {
     "name": "stdout",
     "output_type": "stream",
     "text": [
      "Min-Max Scaler:\n",
      "[[0.  0. ]\n",
      " [0.5 0.5]\n",
      " [1.  1. ]]\n",
      "Standardized data:\n",
      "[[-1.22474487 -1.22474487]\n",
      " [ 0.          0.        ]\n",
      " [ 1.22474487  1.22474487]]\n"
     ]
    }
   ],
   "source": [
    "# Sample data\n",
    "data = [[100, 200], [300, 400], [500, 600]]\n",
    "\n",
    "scaler = MinMaxScaler()\n",
    "scaled_data = scaler.fit_transform(data)\n",
    "print(f\"Min-Max Scaler:\\n{scaled_data}\")\n",
    "\n",
    "standardize = StandardScaler()\n",
    "standardized_data = standardize.fit_transform(data)\n",
    "print(f\"Standardized data:\\n{standardized_data}\")"
   ]
  }
 ],
 "metadata": {
  "kernelspec": {
   "display_name": ".venv",
   "language": "python",
   "name": "python3"
  },
  "language_info": {
   "codemirror_mode": {
    "name": "ipython",
    "version": 3
   },
   "file_extension": ".py",
   "mimetype": "text/x-python",
   "name": "python",
   "nbconvert_exporter": "python",
   "pygments_lexer": "ipython3",
   "version": "3.13.3"
  }
 },
 "nbformat": 4,
 "nbformat_minor": 5
}
